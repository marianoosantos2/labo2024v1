{
 "cells": [
  {
   "cell_type": "markdown",
   "metadata": {},
   "source": [
    "# Zero to Hero"
   ]
  },
  {
   "cell_type": "code",
   "execution_count": null,
   "metadata": {
    "vscode": {
     "languageId": "r"
    }
   },
   "outputs": [],
   "source": []
  },
  {
   "cell_type": "markdown",
   "metadata": {},
   "source": [
    "# 1 Arranque rápido"
   ]
  },
  {
   "cell_type": "markdown",
   "metadata": {},
   "source": [
    "En el capítulo 1 se hará un recorrido por las principales componentes del lenguaje R mínimos necesarios para resolver el problema de la asignatura, justificando las elecciones tomadas.\n",
    "<br>\n",
    "No es la idea de estos notebooks ser un manual del lenguaje R ni tampoco de los paquetes."
   ]
  },
  {
   "cell_type": "markdown",
   "metadata": {},
   "source": [
    "## 1.01  Lectura del dataset"
   ]
  },
  {
   "cell_type": "markdown",
   "metadata": {},
   "source": [
    "Trata sobre la motivacion de utilizar  data.table"
   ]
  },
  {
   "cell_type": "markdown",
   "metadata": {},
   "source": [
    "Copio el dataset desde la catedra a mi bucket"
   ]
  },
  {
   "cell_type": "code",
   "execution_count": 1,
   "metadata": {
    "vscode": {
     "languageId": "r"
    }
   },
   "outputs": [
    {
     "name": "stderr",
     "output_type": "stream",
     "text": [
      "Warning message in system(\"wget  https://storage.googleapis.com/open-courses/austral2024-fc72/dataset_pequeno.csv \"):\n",
      "\"'wget' not found\"\n"
     ]
    },
    {
     "data": {
      "text/html": [
       "127"
      ],
      "text/latex": [
       "127"
      ],
      "text/markdown": [
       "127"
      ],
      "text/plain": [
       "[1] 127"
      ]
     },
     "metadata": {},
     "output_type": "display_data"
    }
   ],
   "source": [
    "system( \"wget  https://storage.googleapis.com/open-courses/austral2024-fc72/dataset_pequeno.csv \" )"
   ]
  },
  {
   "cell_type": "markdown",
   "metadata": {},
   "source": [
    "Trata sobre la motivacion de utilizar data.table Simplemente se carga el dataset y se mide el tiempo que demora, el que es extremadamente alto e inexplicable."
   ]
  },
  {
   "cell_type": "code",
   "execution_count": 5,
   "metadata": {
    "tags": [],
    "vscode": {
     "languageId": "r"
    }
   },
   "outputs": [
    {
     "ename": "NameError",
     "evalue": "name 'setwd' is not defined",
     "output_type": "error",
     "traceback": [
      "\u001b[1;31m---------------------------------------------------------------------------\u001b[0m",
      "\u001b[1;31mNameError\u001b[0m                                 Traceback (most recent call last)",
      "Cell \u001b[1;32mIn[5], line 1\u001b[0m\n\u001b[1;32m----> 1\u001b[0m \u001b[43msetwd\u001b[49m(\u001b[38;5;124m\"\u001b[39m\u001b[38;5;124m~/buckets/b1/\u001b[39m\u001b[38;5;124m\"\u001b[39m) \u001b[38;5;66;03m# Establezco el Working Directory\u001b[39;00m\n",
      "\u001b[1;31mNameError\u001b[0m: name 'setwd' is not defined"
     ]
    }
   ],
   "source": [
    "setwd(\"~/buckets/b1/\") # Establezco el Working Directory\n"
   ]
  },
  {
   "cell_type": "code",
   "execution_count": 6,
   "metadata": {
    "vscode": {
     "languageId": "r"
    }
   },
   "outputs": [
    {
     "ename": "NameError",
     "evalue": "name 'library' is not defined",
     "output_type": "error",
     "traceback": [
      "\u001b[1;31m---------------------------------------------------------------------------\u001b[0m",
      "\u001b[1;31mNameError\u001b[0m                                 Traceback (most recent call last)",
      "Cell \u001b[1;32mIn[6], line 1\u001b[0m\n\u001b[1;32m----> 1\u001b[0m \u001b[43mlibrary\u001b[49m(\u001b[38;5;124m\"\u001b[39m\u001b[38;5;124mdata.table\u001b[39m\u001b[38;5;124m\"\u001b[39m)\n\u001b[0;32m      2\u001b[0m dataset \u001b[38;5;241m<\u001b[39m\u001b[38;5;241m-\u001b[39m fread(\u001b[38;5;124m\"\u001b[39m\u001b[38;5;124mhttps://storage.googleapis.com/open-courses/austral2024-fc72/dataset_pequeno.csv\u001b[39m\u001b[38;5;124m\"\u001b[39m)\n",
      "\u001b[1;31mNameError\u001b[0m: name 'library' is not defined"
     ]
    }
   ],
   "source": [
    "library(\"data.table\")\n",
    "dataset <- fread(\"https://storage.googleapis.com/open-courses/austral2024-fc72/dataset_pequeno.csv\")"
   ]
  },
  {
   "cell_type": "markdown",
   "metadata": {},
   "source": [
    "Ahora vamos a cargar el dataframe como en R Base, tradicional, pero vamos a medir el tiempo\n",
    "para conocer la hora actual utilizo la fucion de R  Sys.time\n",
    "y para calcular la diferencia utilizo as.numeric(  t1 - t0, units = \"secs\")  convirtiéndolo a segundos"
   ]
  },
  {
   "cell_type": "markdown",
   "metadata": {},
   "source": [
    "Primero veo que hace la funcion  Sys.time()"
   ]
  },
  {
   "cell_type": "code",
   "execution_count": 15,
   "metadata": {
    "tags": [],
    "vscode": {
     "languageId": "r"
    }
   },
   "outputs": [
    {
     "data": {
      "text/plain": [
       "[1] \"2024-03-29 16:37:41 +01\""
      ]
     },
     "metadata": {},
     "output_type": "display_data"
    }
   ],
   "source": [
    "Sys.time()\n"
   ]
  },
  {
   "cell_type": "markdown",
   "metadata": {},
   "source": [
    "devuelve fecha, hora  y huso horario  ( -03 para el caso de Argentina)\n",
    "<br>\n",
    "Leyendo la documentación  en  https://www.rdocumentation.org/packages/base/versions/3.6.2/topics/Sys.time    veo que la precisión es de 1/60 segundos,  lo cual para el tipo de medidas que tomaremos es más que suficiente."
   ]
  },
  {
   "cell_type": "code",
   "execution_count": null,
   "metadata": {
    "tags": [],
    "vscode": {
     "languageId": "r"
    }
   },
   "outputs": [
    {
     "ename": "ERROR",
     "evalue": "Error in parse(text = x, srcfile = src): <text>:2:7: unexpected symbol\n1: t0 <- Sys.time()\n2: Ahora vamos\n         ^\n",
     "output_type": "error",
     "traceback": [
      "Error in parse(text = x, srcfile = src): <text>:2:7: unexpected symbol\n1: t0 <- Sys.time()\n2: Ahora vamos\n         ^\nTraceback:\n"
     ]
    }
   ],
   "source": [
    "t0 <- Sys.time()\n",
    "Ahora vamos a cargar el dataframe como en R Base, tradicional, pero vamos a medir el tiempo\n",
    "t1 <- Sys.time()\n",
    "delta <- as.numeric(t1 - t0, units = \"secs\") # calculo la diferencia de tiempos\n",
    "print(delta) # imprimo\n"
   ]
  },
  {
   "cell_type": "markdown",
   "metadata": {},
   "source": [
    "#### la primer corrida da, 23.4 segundos !\n",
    "¿Qué tenebrosos cálculos estará haciendo para demorar 23.4 segundos?\n",
    "A lo sumo tiene que leer el archivo dos veces, para determinar si un campo es numerico o character."
   ]
  },
  {
   "cell_type": "markdown",
   "metadata": {},
   "source": [
    "vuelvo a correr lo mismo, quizas hubo un problema de acceso al disco, y hasta quizas esta segunda vez el archivo ya esté en la memoria del sistema operativo"
   ]
  },
  {
   "cell_type": "code",
   "execution_count": null,
   "metadata": {
    "tags": [],
    "vscode": {
     "languageId": "r"
    }
   },
   "outputs": [],
   "source": [
    "t0 <- Sys.time()\n",
    "dataset <- read.csv(\"./datasets/dataset_pequeno.csv\")\n",
    "t1 <- Sys.time()\n",
    "delta <- as.numeric(t1 - t0, units = \"secs\") # calculo la diferencia de tiempos\n",
    "print(delta) # imprimo\n"
   ]
  },
  {
   "cell_type": "markdown",
   "metadata": {},
   "source": [
    "### la segunda corrida da  16.2 segundos !"
   ]
  },
  {
   "cell_type": "markdown",
   "metadata": {},
   "source": [
    "Se busca bibliografía sobre que alternativa hay al manejo de dataframes del R Base\n",
    "<br>\n",
    "Aparecen varias alternativas, benchmarks muestran la superioridad de data.table\n",
    "<br>\n",
    "Pasamos a probar la libreria  data.table a ver si los becnmarks están en lo cierto, o es solo marketing\n",
    "<br>\n",
    "Si no se tiene instalada la libreria,  instalarla primero con  **install.packages( \"data.table\", dependencies=TRUE )**"
   ]
  },
  {
   "cell_type": "code",
   "execution_count": null,
   "metadata": {
    "tags": [],
    "vscode": {
     "languageId": "r"
    }
   },
   "outputs": [],
   "source": [
    "library(\"data.table\") # cargo la libreria  data.table\n"
   ]
  },
  {
   "cell_type": "code",
   "execution_count": null,
   "metadata": {
    "tags": [],
    "vscode": {
     "languageId": "r"
    }
   },
   "outputs": [],
   "source": [
    "t0 <- Sys.time()\n",
    "dataset <- fread(\"./datasets/dataset_pequeno.csv\")\n",
    "t1 <- Sys.time()\n",
    "delta <- as.numeric(t1 - t0, units = \"secs\") # calculo la diferencia de tiempos\n",
    "print(delta) # imprimo\n"
   ]
  },
  {
   "cell_type": "markdown",
   "metadata": {},
   "source": [
    "###### la primer corrida da  0.64 segundos"
   ]
  },
  {
   "cell_type": "markdown",
   "metadata": {},
   "source": [
    "Hagamos una segunda corrida"
   ]
  },
  {
   "cell_type": "code",
   "execution_count": null,
   "metadata": {
    "tags": [],
    "vscode": {
     "languageId": "r"
    }
   },
   "outputs": [],
   "source": [
    "t0 <- Sys.time()\n",
    "dataset <- fread(\"./datasets/dataset_pequeno.csv\")\n",
    "t1 <- Sys.time()\n",
    "delta <- as.numeric(t1 - t0, units = \"secs\") # calculo la diferencia de tiempos\n",
    "print(delta) # imprimo\n"
   ]
  },
  {
   "cell_type": "markdown",
   "metadata": {},
   "source": [
    "# la segunda corrida da  0.70 segundos"
   ]
  },
  {
   "cell_type": "markdown",
   "metadata": {},
   "source": [
    "Esta diferencia, calculada en forma muy burda (sin hacer varios experimentos)  es alrededor de 16.2 a 0.70\n",
    "<br>\n",
    "Ciertamente leer un dataset es una tarea que se hace unicamente al comienzo de los programas, pero se lee en la bibligrafía que data.table funciona más rápido para *todas* las operaciones sobre datasets, lo que se confirmará en los siguientes capítulos."
   ]
  },
  {
   "cell_type": "markdown",
   "metadata": {},
   "source": [
    "Es una verdadera pena que los fans de tidyverse no exploren data.table, así como en Python que Pandas sea tan servilmente aceptada."
   ]
  }
 ],
 "metadata": {
  "kernelspec": {
   "display_name": "R",
   "language": "R",
   "name": "ir"
  },
  "language_info": {
   "codemirror_mode": "r",
   "file_extension": ".r",
   "mimetype": "text/x-r-source",
   "name": "R",
   "pygments_lexer": "r",
   "version": "4.3.3"
  }
 },
 "nbformat": 4,
 "nbformat_minor": 4
}
